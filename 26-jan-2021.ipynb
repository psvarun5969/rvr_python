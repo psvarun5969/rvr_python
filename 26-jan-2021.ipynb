{
 "cells": [
  {
   "cell_type": "markdown",
   "id": "intermediate-greek",
   "metadata": {},
   "source": [
    "# perfect number"
   ]
  },
  {
   "cell_type": "code",
   "execution_count": 2,
   "id": "exotic-voluntary",
   "metadata": {},
   "outputs": [
    {
     "name": "stdout",
     "output_type": "stream",
     "text": [
      "enter number6\n",
      "perfect number\n"
     ]
    }
   ],
   "source": [
    "n=int(input('enter number'))\n",
    "s=0\n",
    "for i in range (1,n):\n",
    "    if n%i==0:\n",
    "        s+=i\n",
    "if s==n:\n",
    "    print(\"perfect number\")\n",
    "else:\n",
    "    print(\"not perfect\")\n",
    "        \n"
   ]
  },
  {
   "cell_type": "code",
   "execution_count": 3,
   "id": "external-collar",
   "metadata": {},
   "outputs": [
    {
     "name": "stdout",
     "output_type": "stream",
     "text": [
      "enter tables upto16\n",
      "enter table length10\n",
      "1 * 1 =1\n",
      "1 * 2 =2\n",
      "1 * 3 =3\n",
      "1 * 4 =4\n",
      "1 * 5 =5\n",
      "1 * 6 =6\n",
      "1 * 7 =7\n",
      "1 * 8 =8\n",
      "1 * 9 =9\n",
      "1 * 10 =10\n",
      "2 * 1 =2\n",
      "2 * 2 =4\n",
      "2 * 3 =6\n",
      "2 * 4 =8\n",
      "2 * 5 =10\n",
      "2 * 6 =12\n",
      "2 * 7 =14\n",
      "2 * 8 =16\n",
      "2 * 9 =18\n",
      "2 * 10 =20\n",
      "3 * 1 =3\n",
      "3 * 2 =6\n",
      "3 * 3 =9\n",
      "3 * 4 =12\n",
      "3 * 5 =15\n",
      "3 * 6 =18\n",
      "3 * 7 =21\n",
      "3 * 8 =24\n",
      "3 * 9 =27\n",
      "3 * 10 =30\n",
      "4 * 1 =4\n",
      "4 * 2 =8\n",
      "4 * 3 =12\n",
      "4 * 4 =16\n",
      "4 * 5 =20\n",
      "4 * 6 =24\n",
      "4 * 7 =28\n",
      "4 * 8 =32\n",
      "4 * 9 =36\n",
      "4 * 10 =40\n",
      "5 * 1 =5\n",
      "5 * 2 =10\n",
      "5 * 3 =15\n",
      "5 * 4 =20\n",
      "5 * 5 =25\n",
      "5 * 6 =30\n",
      "5 * 7 =35\n",
      "5 * 8 =40\n",
      "5 * 9 =45\n",
      "5 * 10 =50\n",
      "6 * 1 =6\n",
      "6 * 2 =12\n",
      "6 * 3 =18\n",
      "6 * 4 =24\n",
      "6 * 5 =30\n",
      "6 * 6 =36\n",
      "6 * 7 =42\n",
      "6 * 8 =48\n",
      "6 * 9 =54\n",
      "6 * 10 =60\n",
      "7 * 1 =7\n",
      "7 * 2 =14\n",
      "7 * 3 =21\n",
      "7 * 4 =28\n",
      "7 * 5 =35\n",
      "7 * 6 =42\n",
      "7 * 7 =49\n",
      "7 * 8 =56\n",
      "7 * 9 =63\n",
      "7 * 10 =70\n",
      "8 * 1 =8\n",
      "8 * 2 =16\n",
      "8 * 3 =24\n",
      "8 * 4 =32\n",
      "8 * 5 =40\n",
      "8 * 6 =48\n",
      "8 * 7 =56\n",
      "8 * 8 =64\n",
      "8 * 9 =72\n",
      "8 * 10 =80\n",
      "9 * 1 =9\n",
      "9 * 2 =18\n",
      "9 * 3 =27\n",
      "9 * 4 =36\n",
      "9 * 5 =45\n",
      "9 * 6 =54\n",
      "9 * 7 =63\n",
      "9 * 8 =72\n",
      "9 * 9 =81\n",
      "9 * 10 =90\n",
      "10 * 1 =10\n",
      "10 * 2 =20\n",
      "10 * 3 =30\n",
      "10 * 4 =40\n",
      "10 * 5 =50\n",
      "10 * 6 =60\n",
      "10 * 7 =70\n",
      "10 * 8 =80\n",
      "10 * 9 =90\n",
      "10 * 10 =100\n",
      "11 * 1 =11\n",
      "11 * 2 =22\n",
      "11 * 3 =33\n",
      "11 * 4 =44\n",
      "11 * 5 =55\n",
      "11 * 6 =66\n",
      "11 * 7 =77\n",
      "11 * 8 =88\n",
      "11 * 9 =99\n",
      "11 * 10 =110\n",
      "12 * 1 =12\n",
      "12 * 2 =24\n",
      "12 * 3 =36\n",
      "12 * 4 =48\n",
      "12 * 5 =60\n",
      "12 * 6 =72\n",
      "12 * 7 =84\n",
      "12 * 8 =96\n",
      "12 * 9 =108\n",
      "12 * 10 =120\n",
      "13 * 1 =13\n",
      "13 * 2 =26\n",
      "13 * 3 =39\n",
      "13 * 4 =52\n",
      "13 * 5 =65\n",
      "13 * 6 =78\n",
      "13 * 7 =91\n",
      "13 * 8 =104\n",
      "13 * 9 =117\n",
      "13 * 10 =130\n",
      "14 * 1 =14\n",
      "14 * 2 =28\n",
      "14 * 3 =42\n",
      "14 * 4 =56\n",
      "14 * 5 =70\n",
      "14 * 6 =84\n",
      "14 * 7 =98\n",
      "14 * 8 =112\n",
      "14 * 9 =126\n",
      "14 * 10 =140\n",
      "15 * 1 =15\n",
      "15 * 2 =30\n",
      "15 * 3 =45\n",
      "15 * 4 =60\n",
      "15 * 5 =75\n",
      "15 * 6 =90\n",
      "15 * 7 =105\n",
      "15 * 8 =120\n",
      "15 * 9 =135\n",
      "15 * 10 =150\n",
      "16 * 1 =16\n",
      "16 * 2 =32\n",
      "16 * 3 =48\n",
      "16 * 4 =64\n",
      "16 * 5 =80\n",
      "16 * 6 =96\n",
      "16 * 7 =112\n",
      "16 * 8 =128\n",
      "16 * 9 =144\n",
      "16 * 10 =160\n"
     ]
    }
   ],
   "source": [
    "t=int(input('enter tables upto'))\n",
    "t_len=int(input('enter table length'))\n",
    "for i in range(1,t+1):\n",
    "    for j in range(1,t_len+1):\n",
    "         print('{} * {} ={}' .format(i,j,i*j))   "
   ]
  },
  {
   "cell_type": "code",
   "execution_count": 4,
   "id": "approximate-travel",
   "metadata": {},
   "outputs": [
    {
     "name": "stdout",
     "output_type": "stream",
     "text": [
      "10\n",
      "9\n",
      "8\n",
      "7\n",
      "6\n",
      "5\n",
      "4\n",
      "3\n",
      "2\n",
      "1\n"
     ]
    }
   ],
   "source": [
    "for i in range(10,0,-1):\n",
    "    print(i)\n"
   ]
  },
  {
   "cell_type": "code",
   "execution_count": 6,
   "id": "settled-order",
   "metadata": {},
   "outputs": [
    {
     "name": "stdout",
     "output_type": "stream",
     "text": [
      "10\n",
      "9\n",
      "8\n",
      "7\n",
      "6\n",
      "5\n",
      "4\n",
      "3\n",
      "2\n",
      "1\n"
     ]
    }
   ],
   "source": [
    " i=10\n",
    "while i>0:\n",
    "        \n",
    "        print(i)\n",
    "        i-=1"
   ]
  },
  {
   "cell_type": "code",
   "execution_count": 15,
   "id": "strategic-exhibit",
   "metadata": {},
   "outputs": [
    {
     "name": "stdout",
     "output_type": "stream",
     "text": [
      "1\n",
      "2\n",
      "3\n",
      "4\n",
      "5\n"
     ]
    }
   ],
   "source": [
    "# break\n",
    "# continue\n",
    "for i in range(1,10):\n",
    "    print(i)\n",
    "    if i==5:\n",
    "        break"
   ]
  },
  {
   "cell_type": "code",
   "execution_count": 20,
   "id": "civilian-niger",
   "metadata": {},
   "outputs": [
    {
     "name": "stdout",
     "output_type": "stream",
     "text": [
      "1\n",
      "2\n",
      "3\n",
      "4\n",
      "6\n",
      "7\n",
      "8\n",
      "9\n"
     ]
    }
   ],
   "source": [
    "for i in range(1,10):\n",
    "    if i==5:\n",
    "        continue\n",
    "    print(i)\n"
   ]
  },
  {
   "cell_type": "markdown",
   "id": "automatic-cause",
   "metadata": {},
   "source": [
    "### functions:\n",
    " - block of code ton perform some operations\n",
    "    - uses:\n",
    "        -code reusability\n",
    "        -readbulity of the program\n",
    "        -code reduce\n",
    "        -time decrease\n",
    "    -types of functions:\n",
    "        -1. inbuilt/default functions\n",
    "         -ex: print,sum,max,min,int\n",
    "        -2. user define functions:\n",
    "            1. function creation\n",
    "               1.function declaration:\n",
    "                'def function name(arguments):'\n",
    "                2.function definition:\n",
    "                'statements'\n",
    "         2. function calling;\n",
    "             - by using function name\n",
    "        -3. special functions:\n",
    "      - lambda,comphrensions,iterators,map     "
   ]
  },
  {
   "cell_type": "code",
   "execution_count": 23,
   "id": "pressed-thesaurus",
   "metadata": {},
   "outputs": [
    {
     "name": "stdout",
     "output_type": "stream",
     "text": [
      "9\n"
     ]
    }
   ],
   "source": [
    "# function creation:\n",
    "def add(a,b):\n",
    "    print(a+b)\n",
    "# function calling:    \n",
    "add(4,5)    "
   ]
  },
  {
   "cell_type": "code",
   "execution_count": 24,
   "id": "ahead-prague",
   "metadata": {},
   "outputs": [
    {
     "name": "stdout",
     "output_type": "stream",
     "text": [
      "-1\n"
     ]
    }
   ],
   "source": [
    "def sub(a,b):\n",
    "    print(a-b)\n",
    "sub(5,6)    \n",
    "    \n"
   ]
  },
  {
   "cell_type": "markdown",
   "id": "lovely-microphone",
   "metadata": {},
   "source": [
    "# types of user define functions:\n",
    "# based on return value:\n",
    " 1. without arg and without return value\n",
    " 2. without arg and with return value\n",
    " 3. with arg and without return value\n",
    " 4. with arg and with return value"
   ]
  },
  {
   "cell_type": "code",
   "execution_count": 25,
   "id": "spread-acrylic",
   "metadata": {},
   "outputs": [
    {
     "name": "stdout",
     "output_type": "stream",
     "text": [
      "enter n value5\n",
      " numberi s factor of 10\n",
      "enter n value5\n",
      " numberi s factor of 10\n",
      "None\n"
     ]
    }
   ],
   "source": [
    "#1. without arg and without return value\n",
    "def f1():\n",
    "    n=int(input(\"enter n value\"))\n",
    "    if 10%n==0:\n",
    "        print(\" numberi s factor of 10\")\n",
    "    else:\n",
    "        print(\"number us not factor of 10\")\n",
    "f1()\n",
    "n=f1()\n",
    "print(n)\n",
    "\n"
   ]
  },
  {
   "cell_type": "code",
   "execution_count": 26,
   "id": "chicken-button",
   "metadata": {},
   "outputs": [
    {
     "name": "stdout",
     "output_type": "stream",
     "text": [
      "enter n1 value5\n",
      "enter n2 value6\n",
      "11\n"
     ]
    }
   ],
   "source": [
    "# without arg and with return value\n",
    "def f2():\n",
    "    n1=int(input(\"enter n1 value\"))\n",
    "    n2=int (input(\"enter n2 value\"))\n",
    "    return n1,n2\n",
    "a,b=f2()\n",
    "print(a+b)\n"
   ]
  },
  {
   "cell_type": "code",
   "execution_count": 27,
   "id": "optimum-comparison",
   "metadata": {},
   "outputs": [
    {
     "name": "stdout",
     "output_type": "stream",
     "text": [
      "enter n1 value5\n",
      "enter n2 value6\n",
      "add 11\n",
      "sub -1\n",
      "mult 30\n",
      "div 0.8333333333333334\n"
     ]
    }
   ],
   "source": [
    "# with arg and without return value\n",
    "n1=int(input(\"enter n1 value\"))\n",
    "n2=int (input(\"enter n2 value\"))\n",
    "def f2(n1,n2):\n",
    "    print(\"add\",n1+n2)\n",
    "    print(\"sub\",n1-n2)\n",
    "    print(\"mult\",n1*n2)\n",
    "    print(\"div\",n1/n2)\n",
    "f2(n1,n2)    \n",
    "    \n"
   ]
  },
  {
   "cell_type": "code",
   "execution_count": 28,
   "id": "respected-niger",
   "metadata": {},
   "outputs": [
    {
     "name": "stdout",
     "output_type": "stream",
     "text": [
      "enter n1 value5\n",
      "enter n2 value6\n",
      "<function add at 0x0000023D5FD298B0>\n",
      "<function sub at 0x0000023D5FD29B80>\n"
     ]
    },
    {
     "ename": "NameError",
     "evalue": "name 'mult' is not defined",
     "output_type": "error",
     "traceback": [
      "\u001b[1;31m---------------------------------------------------------------------------\u001b[0m",
      "\u001b[1;31mNameError\u001b[0m                                 Traceback (most recent call last)",
      "\u001b[1;32m<ipython-input-28-ba4292404ba4>\u001b[0m in \u001b[0;36m<module>\u001b[1;34m\u001b[0m\n\u001b[0;32m      7\u001b[0m \u001b[0mprint\u001b[0m\u001b[1;33m(\u001b[0m\u001b[0madd\u001b[0m\u001b[1;33m)\u001b[0m\u001b[1;33m\u001b[0m\u001b[1;33m\u001b[0m\u001b[0m\n\u001b[0;32m      8\u001b[0m \u001b[0mprint\u001b[0m\u001b[1;33m(\u001b[0m\u001b[0msub\u001b[0m\u001b[1;33m)\u001b[0m\u001b[1;33m\u001b[0m\u001b[1;33m\u001b[0m\u001b[0m\n\u001b[1;32m----> 9\u001b[1;33m \u001b[0mprint\u001b[0m\u001b[1;33m(\u001b[0m\u001b[0mmult\u001b[0m\u001b[1;33m)\u001b[0m\u001b[1;33m\u001b[0m\u001b[1;33m\u001b[0m\u001b[0m\n\u001b[0m\u001b[0;32m     10\u001b[0m \u001b[0mprint\u001b[0m\u001b[1;33m(\u001b[0m\u001b[0mdiv\u001b[0m\u001b[1;33m)\u001b[0m\u001b[1;33m\u001b[0m\u001b[1;33m\u001b[0m\u001b[0m\n\u001b[0;32m     11\u001b[0m \u001b[1;33m\u001b[0m\u001b[0m\n",
      "\u001b[1;31mNameError\u001b[0m: name 'mult' is not defined"
     ]
    }
   ],
   "source": [
    "# with arg and with return value\n",
    "n1=int(input(\"enter n1 value\"))\n",
    "n2=int (input(\"enter n2 value\"))\n",
    "def f3(n1,n2):\n",
    "    return n1+n2,n1-n2,n1*n2,n1/n2\n",
    "f3(n1,n2)\n",
    "print(add)\n",
    "print(sub)\n",
    "print(mult)\n",
    "print(div)\n",
    "\n",
    "\n",
    "\n"
   ]
  },
  {
   "cell_type": "code",
   "execution_count": null,
   "id": "juvenile-situation",
   "metadata": {},
   "outputs": [],
   "source": []
  }
 ],
 "metadata": {
  "kernelspec": {
   "display_name": "Python 3",
   "language": "python",
   "name": "python3"
  },
  "language_info": {
   "codemirror_mode": {
    "name": "ipython",
    "version": 3
   },
   "file_extension": ".py",
   "mimetype": "text/x-python",
   "name": "python",
   "nbconvert_exporter": "python",
   "pygments_lexer": "ipython3",
   "version": "3.8.0"
  }
 },
 "nbformat": 4,
 "nbformat_minor": 5
}
