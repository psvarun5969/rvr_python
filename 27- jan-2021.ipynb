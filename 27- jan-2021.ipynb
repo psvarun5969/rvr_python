{
 "cells": [
  {
   "cell_type": "markdown",
   "id": "solid-tours",
   "metadata": {},
   "source": [
    "# based on arguments\n",
    " 1.default arg\n",
    " 2.required or positional arg\n",
    " 3.variable length arg\n",
    " 4. keyword arg\n",
    "    "
   ]
  },
  {
   "cell_type": "code",
   "execution_count": 1,
   "id": "quality-mileage",
   "metadata": {},
   "outputs": [
    {
     "data": {
      "text/plain": [
       "300"
      ]
     },
     "execution_count": 1,
     "metadata": {},
     "output_type": "execute_result"
    }
   ],
   "source": [
    "# default arg\n",
    "def default(a=10,b=30):\n",
    "    return a*b\n",
    "default()"
   ]
  },
  {
   "cell_type": "code",
   "execution_count": 2,
   "id": "personalized-payroll",
   "metadata": {},
   "outputs": [
    {
     "data": {
      "text/plain": [
       "1200"
      ]
     },
     "execution_count": 2,
     "metadata": {},
     "output_type": "execute_result"
    }
   ],
   "source": [
    "def default(a=10,b=30):\n",
    "    return a*b\n",
    "default(40)"
   ]
  },
  {
   "cell_type": "code",
   "execution_count": 3,
   "id": "vocational-baker",
   "metadata": {},
   "outputs": [
    {
     "data": {
      "text/plain": [
       "2400"
      ]
     },
     "execution_count": 3,
     "metadata": {},
     "output_type": "execute_result"
    }
   ],
   "source": [
    "def default(a=10,b=30):\n",
    "    return a*b\n",
    "default(40,60)"
   ]
  },
  {
   "cell_type": "code",
   "execution_count": 5,
   "id": "polar-rogers",
   "metadata": {},
   "outputs": [
    {
     "data": {
      "text/plain": [
       "34"
      ]
     },
     "execution_count": 5,
     "metadata": {},
     "output_type": "execute_result"
    }
   ],
   "source": [
    "# required or positional arg\n",
    "def required(a,b=5,c=6):\n",
    "    return a**2+2*b+c\n",
    "required(4,6)"
   ]
  },
  {
   "cell_type": "markdown",
   "id": "passing-officer",
   "metadata": {},
   "source": [
    "# required should given first"
   ]
  },
  {
   "cell_type": "code",
   "execution_count": 8,
   "id": "understood-third",
   "metadata": {},
   "outputs": [
    {
     "data": {
      "text/plain": [
       "30"
      ]
     },
     "execution_count": 8,
     "metadata": {},
     "output_type": "execute_result"
    }
   ],
   "source": [
    "# variable length arg\n",
    "def var_len(a,b=20,*c):\n",
    "       return a+b+sum(c)\n",
    "var_len(10)\n"
   ]
  },
  {
   "cell_type": "code",
   "execution_count": 9,
   "id": "finished-renaissance",
   "metadata": {},
   "outputs": [
    {
     "data": {
      "text/plain": [
       "30"
      ]
     },
     "execution_count": 9,
     "metadata": {},
     "output_type": "execute_result"
    }
   ],
   "source": [
    "def var_len(a,b=20,*c):\n",
    "       return a+b+sum(c)\n",
    "var_len(10,10,10)    \n",
    "    "
   ]
  },
  {
   "cell_type": "code",
   "execution_count": 10,
   "id": "frequent-hamilton",
   "metadata": {},
   "outputs": [
    {
     "data": {
      "text/plain": [
       "47"
      ]
     },
     "execution_count": 10,
     "metadata": {},
     "output_type": "execute_result"
    }
   ],
   "source": [
    "def var_len(a,b=20,*c):\n",
    "       return a+b+sum(c)\n",
    "var_len(10,10,10,5,6,6)    \n",
    "    "
   ]
  },
  {
   "cell_type": "code",
   "execution_count": 26,
   "id": "bridal-psychiatry",
   "metadata": {},
   "outputs": [
    {
     "data": {
      "text/plain": [
       "80"
      ]
     },
     "execution_count": 26,
     "metadata": {},
     "output_type": "execute_result"
    }
   ],
   "source": [
    "def var_len(a=20,b=20,*c):\n",
    "    \n",
    "       return a+b+sum(c)\n",
    "r=var_len(10)\n",
    "def var_len1 (d=20,e=20):\n",
    "        return r+d+e\n",
    "var_len1(r)    \n",
    "    \n",
    "    \n",
    "    \n",
    "    \n",
    "    \n",
    "\n",
    "    \n",
    "   \n",
    "    "
   ]
  },
  {
   "cell_type": "code",
   "execution_count": 28,
   "id": "handled-bachelor",
   "metadata": {},
   "outputs": [
    {
     "name": "stdout",
     "output_type": "stream",
     "text": [
      "10 50 (10, 10)\n"
     ]
    }
   ],
   "source": [
    "# keyword arg\n",
    "def var_len(a,*c,b=20):\n",
    "       return a,b,c\n",
    "a,b,c=var_len(10,10,10,b=50)\n",
    "print(a,b,c)\n",
    "\n",
    "\n",
    "    \n",
    "\n",
    "\n",
    "\n",
    "\n",
    "\n"
   ]
  },
  {
   "cell_type": "code",
   "execution_count": 30,
   "id": "irish-delicious",
   "metadata": {},
   "outputs": [
    {
     "data": {
      "text/plain": [
       "{'name': ['abc', 'hello']}"
      ]
     },
     "execution_count": 30,
     "metadata": {},
     "output_type": "execute_result"
    }
   ],
   "source": [
    "def key_word(**name):\n",
    "    return name\n",
    "key_word(name=['abc','hello'] )\n"
   ]
  },
  {
   "cell_type": "code",
   "execution_count": 34,
   "id": "recognized-crowd",
   "metadata": {},
   "outputs": [
    {
     "data": {
      "text/plain": [
       "True"
      ]
     },
     "execution_count": 34,
     "metadata": {},
     "output_type": "execute_result"
    }
   ],
   "source": [
    "def IS_perfect(n):\n",
    "    s=0\n",
    "    for i in range(1,n):\n",
    "        if n%i==0:\n",
    "            s+=i\n",
    "    if s==n:\n",
    "        return True\n",
    "    else:\n",
    "        return False\n",
    "IS_perfect(6)    \n",
    "        "
   ]
  },
  {
   "cell_type": "code",
   "execution_count": 36,
   "id": "sunrise-restaurant",
   "metadata": {},
   "outputs": [
    {
     "name": "stdout",
     "output_type": "stream",
     "text": [
      "6\n",
      "28\n"
     ]
    }
   ],
   "source": [
    "def perfect_gen(start,end):\n",
    "    for i in range(start,end+1):\n",
    "        if IS_perfect(i):\n",
    "            print(i)\n",
    "perfect_gen(start=1,end=100)            "
   ]
  },
  {
   "cell_type": "markdown",
   "id": "incident-elite",
   "metadata": {},
   "source": [
    "## strings\n",
    "- what is string?\n",
    "    - collection of characters\n",
    "    - enclosed with single quotes or double quotes(\"or\")\n"
   ]
  },
  {
   "cell_type": "code",
   "execution_count": 2,
   "id": "furnished-meter",
   "metadata": {},
   "outputs": [
    {
     "name": "stdout",
     "output_type": "stream",
     "text": [
      "<class 'str'>\n"
     ]
    }
   ],
   "source": [
    "s=\"\"\n",
    "print(type(s))"
   ]
  },
  {
   "cell_type": "code",
   "execution_count": 3,
   "id": "touched-devon",
   "metadata": {},
   "outputs": [
    {
     "data": {
      "text/plain": [
       "'d'"
      ]
     },
     "execution_count": 3,
     "metadata": {},
     "output_type": "execute_result"
    }
   ],
   "source": [
    "# space also consider as a string\n",
    "# accesing the value \n",
    "g= \"apssdc\"\n",
    "g[4]# forward indexing"
   ]
  },
  {
   "cell_type": "code",
   "execution_count": 4,
   "id": "transparent-cotton",
   "metadata": {},
   "outputs": [
    {
     "data": {
      "text/plain": [
       "'d'"
      ]
     },
     "execution_count": 4,
     "metadata": {},
     "output_type": "execute_result"
    }
   ],
   "source": [
    "g[-2]# backward indexing\n",
    "\n"
   ]
  },
  {
   "cell_type": "code",
   "execution_count": 6,
   "id": "photographic-forwarding",
   "metadata": {},
   "outputs": [
    {
     "name": "stdout",
     "output_type": "stream",
     "text": [
      "apssdc\n"
     ]
    },
    {
     "data": {
      "text/plain": [
       "'apssdc'"
      ]
     },
     "execution_count": 6,
     "metadata": {},
     "output_type": "execute_result"
    }
   ],
   "source": [
    "# slicing\n",
    "print(g)\n",
    "g[3:6]\n",
    "g[0:6]"
   ]
  },
  {
   "cell_type": "code",
   "execution_count": 10,
   "id": "familiar-compensation",
   "metadata": {},
   "outputs": [
    {
     "data": {
      "text/plain": [
       "'cdsspa'"
      ]
     },
     "execution_count": 10,
     "metadata": {},
     "output_type": "execute_result"
    }
   ],
   "source": [
    "# to reverse string\n",
    "g[::-1]"
   ]
  },
  {
   "cell_type": "code",
   "execution_count": 11,
   "id": "consistent-material",
   "metadata": {},
   "outputs": [],
   "source": [
    "s=\"\"\"apssdc\n",
    "sdc\n",
    "rvr\"\"\"# multiline string"
   ]
  },
  {
   "cell_type": "code",
   "execution_count": 12,
   "id": "military-roman",
   "metadata": {},
   "outputs": [
    {
     "data": {
      "text/plain": [
       "'apssdc\\nsdc\\nrvr'"
      ]
     },
     "execution_count": 12,
     "metadata": {},
     "output_type": "execute_result"
    }
   ],
   "source": [
    "s"
   ]
  },
  {
   "cell_type": "code",
   "execution_count": 14,
   "id": "revolutionary-villa",
   "metadata": {},
   "outputs": [
    {
     "name": "stdout",
     "output_type": "stream",
     "text": [
      "apssdc\n",
      "sdc\n",
      "rvr\n"
     ]
    }
   ],
   "source": [
    "print(s)"
   ]
  },
  {
   "cell_type": "code",
   "execution_count": 15,
   "id": "endangered-bandwidth",
   "metadata": {},
   "outputs": [
    {
     "name": "stdout",
     "output_type": "stream",
     "text": [
      "apssdc\n"
     ]
    },
    {
     "data": {
      "text/plain": [
       "'print(\"rvr\")\\nprint(\"ece\")'"
      ]
     },
     "execution_count": 15,
     "metadata": {},
     "output_type": "execute_result"
    }
   ],
   "source": [
    "print(\"apssdc\")\n",
    "'''print(\"rvr\")\n",
    "print(\"ece\")'''# mutiline comment"
   ]
  },
  {
   "cell_type": "code",
   "execution_count": 16,
   "id": "greatest-schedule",
   "metadata": {},
   "outputs": [
    {
     "data": {
      "text/plain": [
       "['__add__',\n",
       " '__class__',\n",
       " '__contains__',\n",
       " '__delattr__',\n",
       " '__dir__',\n",
       " '__doc__',\n",
       " '__eq__',\n",
       " '__format__',\n",
       " '__ge__',\n",
       " '__getattribute__',\n",
       " '__getitem__',\n",
       " '__getnewargs__',\n",
       " '__gt__',\n",
       " '__hash__',\n",
       " '__init__',\n",
       " '__init_subclass__',\n",
       " '__iter__',\n",
       " '__le__',\n",
       " '__len__',\n",
       " '__lt__',\n",
       " '__mod__',\n",
       " '__mul__',\n",
       " '__ne__',\n",
       " '__new__',\n",
       " '__reduce__',\n",
       " '__reduce_ex__',\n",
       " '__repr__',\n",
       " '__rmod__',\n",
       " '__rmul__',\n",
       " '__setattr__',\n",
       " '__sizeof__',\n",
       " '__str__',\n",
       " '__subclasshook__',\n",
       " 'capitalize',\n",
       " 'casefold',\n",
       " 'center',\n",
       " 'count',\n",
       " 'encode',\n",
       " 'endswith',\n",
       " 'expandtabs',\n",
       " 'find',\n",
       " 'format',\n",
       " 'format_map',\n",
       " 'index',\n",
       " 'isalnum',\n",
       " 'isalpha',\n",
       " 'isascii',\n",
       " 'isdecimal',\n",
       " 'isdigit',\n",
       " 'isidentifier',\n",
       " 'islower',\n",
       " 'isnumeric',\n",
       " 'isprintable',\n",
       " 'isspace',\n",
       " 'istitle',\n",
       " 'isupper',\n",
       " 'join',\n",
       " 'ljust',\n",
       " 'lower',\n",
       " 'lstrip',\n",
       " 'maketrans',\n",
       " 'partition',\n",
       " 'replace',\n",
       " 'rfind',\n",
       " 'rindex',\n",
       " 'rjust',\n",
       " 'rpartition',\n",
       " 'rsplit',\n",
       " 'rstrip',\n",
       " 'split',\n",
       " 'splitlines',\n",
       " 'startswith',\n",
       " 'strip',\n",
       " 'swapcase',\n",
       " 'title',\n",
       " 'translate',\n",
       " 'upper',\n",
       " 'zfill']"
      ]
     },
     "execution_count": 16,
     "metadata": {},
     "output_type": "execute_result"
    }
   ],
   "source": [
    "dir(g)"
   ]
  },
  {
   "cell_type": "code",
   "execution_count": 17,
   "id": "portuguese-panama",
   "metadata": {},
   "outputs": [
    {
     "data": {
      "text/plain": [
       "'Apssdc'"
      ]
     },
     "execution_count": 17,
     "metadata": {},
     "output_type": "execute_result"
    }
   ],
   "source": [
    "g.capitalize()"
   ]
  },
  {
   "cell_type": "code",
   "execution_count": 18,
   "id": "continent-matrix",
   "metadata": {},
   "outputs": [
    {
     "name": "stdout",
     "output_type": "stream",
     "text": [
      "apssdc\n"
     ]
    },
    {
     "data": {
      "text/plain": [
       "'apssdc'"
      ]
     },
     "execution_count": 18,
     "metadata": {},
     "output_type": "execute_result"
    }
   ],
   "source": [
    "print(g)\n",
    "g.lower()"
   ]
  },
  {
   "cell_type": "code",
   "execution_count": 20,
   "id": "moderate-timothy",
   "metadata": {},
   "outputs": [
    {
     "data": {
      "text/plain": [
       "'ASDF'"
      ]
     },
     "execution_count": 20,
     "metadata": {},
     "output_type": "execute_result"
    }
   ],
   "source": [
    "g1=\"asdf\"\n",
    "g1.upper()"
   ]
  },
  {
   "cell_type": "code",
   "execution_count": 21,
   "id": "functional-ground",
   "metadata": {},
   "outputs": [
    {
     "data": {
      "text/plain": [
       "'Apssdc Python Workshop'"
      ]
     },
     "execution_count": 21,
     "metadata": {},
     "output_type": "execute_result"
    }
   ],
   "source": [
    "g3='apssdc python workshop'\n",
    "g3.title()"
   ]
  },
  {
   "cell_type": "code",
   "execution_count": 23,
   "id": "historical-airplane",
   "metadata": {},
   "outputs": [
    {
     "name": "stdout",
     "output_type": "stream",
     "text": [
      "rvrjc\n"
     ]
    }
   ],
   "source": [
    "a=\"rvr\"\n",
    "b='jc'\n",
    "c=a+b\n",
    "print(c)"
   ]
  },
  {
   "cell_type": "code",
   "execution_count": 25,
   "id": "undefined-alexander",
   "metadata": {},
   "outputs": [
    {
     "name": "stdout",
     "output_type": "stream",
     "text": [
      "rvr  ece\n"
     ]
    }
   ],
   "source": [
    "a='rvr '\n",
    "b=' ece'\n",
    "c=a+''+b\n",
    "print(c)"
   ]
  },
  {
   "cell_type": "code",
   "execution_count": 26,
   "id": "honey-eating",
   "metadata": {},
   "outputs": [
    {
     "data": {
      "text/plain": [
       "['rvr', 'ece']"
      ]
     },
     "execution_count": 26,
     "metadata": {},
     "output_type": "execute_result"
    }
   ],
   "source": [
    "c.split()"
   ]
  },
  {
   "cell_type": "code",
   "execution_count": 33,
   "id": "subject-moral",
   "metadata": {},
   "outputs": [
    {
     "data": {
      "text/plain": [
       "['apssdc python wo', 'kshop']"
      ]
     },
     "execution_count": 33,
     "metadata": {},
     "output_type": "execute_result"
    }
   ],
   "source": [
    " \n",
    "g3.split(\"r\")"
   ]
  },
  {
   "cell_type": "code",
   "execution_count": 34,
   "id": "delayed-genealogy",
   "metadata": {},
   "outputs": [
    {
     "data": {
      "text/plain": [
       "'apssdc python workshop'"
      ]
     },
     "execution_count": 34,
     "metadata": {},
     "output_type": "execute_result"
    }
   ],
   "source": [
    "g3.strip()"
   ]
  },
  {
   "cell_type": "code",
   "execution_count": 35,
   "id": "consolidated-politics",
   "metadata": {},
   "outputs": [
    {
     "data": {
      "text/plain": [
       "19"
      ]
     },
     "execution_count": 35,
     "metadata": {},
     "output_type": "execute_result"
    }
   ],
   "source": [
    "z=\"  python workshop  \"\n",
    "len(z)"
   ]
  },
  {
   "cell_type": "code",
   "execution_count": 36,
   "id": "developed-retreat",
   "metadata": {},
   "outputs": [
    {
     "data": {
      "text/plain": [
       "'python workshop'"
      ]
     },
     "execution_count": 36,
     "metadata": {},
     "output_type": "execute_result"
    }
   ],
   "source": [
    "z.strip()# remove unwanted spaces"
   ]
  },
  {
   "cell_type": "code",
   "execution_count": 37,
   "id": "owned-novel",
   "metadata": {},
   "outputs": [
    {
     "data": {
      "text/plain": [
       "'  python workshop'"
      ]
     },
     "execution_count": 37,
     "metadata": {},
     "output_type": "execute_result"
    }
   ],
   "source": [
    "z.rstrip()"
   ]
  },
  {
   "cell_type": "code",
   "execution_count": 39,
   "id": "plastic-depth",
   "metadata": {},
   "outputs": [
    {
     "data": {
      "text/plain": [
       "'python workshop  '"
      ]
     },
     "execution_count": 39,
     "metadata": {},
     "output_type": "execute_result"
    }
   ],
   "source": [
    "z.lstrip()"
   ]
  },
  {
   "cell_type": "code",
   "execution_count": 41,
   "id": "royal-passing",
   "metadata": {},
   "outputs": [
    {
     "data": {
      "text/plain": [
       "'penumarthisaivarun'"
      ]
     },
     "execution_count": 41,
     "metadata": {},
     "output_type": "execute_result"
    }
   ],
   "source": [
    "a=[\"penumarthi\",\"varun\"]\n",
    "\"sai\".join(a)"
   ]
  },
  {
   "cell_type": "code",
   "execution_count": null,
   "id": "efficient-reviewer",
   "metadata": {},
   "outputs": [],
   "source": []
  }
 ],
 "metadata": {
  "kernelspec": {
   "display_name": "Python 3",
   "language": "python",
   "name": "python3"
  },
  "language_info": {
   "codemirror_mode": {
    "name": "ipython",
    "version": 3
   },
   "file_extension": ".py",
   "mimetype": "text/x-python",
   "name": "python",
   "nbconvert_exporter": "python",
   "pygments_lexer": "ipython3",
   "version": "3.8.0"
  }
 },
 "nbformat": 4,
 "nbformat_minor": 5
}
