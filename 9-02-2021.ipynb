{
 "cells": [
  {
   "cell_type": "markdown",
   "id": "necessary-butter",
   "metadata": {},
   "source": [
    "## regular expression\n",
    "- it is a sequence of characters that forms a pattern(search pattern)\n",
    "- validating the data\n",
    "- import re\n",
    "\n",
    "\n",
    "\n",
    "\n",
    "\n",
    "\n",
    "\n",
    "\n",
    "\n"
   ]
  },
  {
   "cell_type": "code",
   "execution_count": 1,
   "id": "successful-october",
   "metadata": {},
   "outputs": [],
   "source": [
    "import re"
   ]
  },
  {
   "cell_type": "code",
   "execution_count": 2,
   "id": "built-jewel",
   "metadata": {},
   "outputs": [
    {
     "data": {
      "text/plain": [
       "['A',\n",
       " 'ASCII',\n",
       " 'DEBUG',\n",
       " 'DOTALL',\n",
       " 'I',\n",
       " 'IGNORECASE',\n",
       " 'L',\n",
       " 'LOCALE',\n",
       " 'M',\n",
       " 'MULTILINE',\n",
       " 'Match',\n",
       " 'Pattern',\n",
       " 'RegexFlag',\n",
       " 'S',\n",
       " 'Scanner',\n",
       " 'T',\n",
       " 'TEMPLATE',\n",
       " 'U',\n",
       " 'UNICODE',\n",
       " 'VERBOSE',\n",
       " 'X',\n",
       " '_MAXCACHE',\n",
       " '__all__',\n",
       " '__builtins__',\n",
       " '__cached__',\n",
       " '__doc__',\n",
       " '__file__',\n",
       " '__loader__',\n",
       " '__name__',\n",
       " '__package__',\n",
       " '__spec__',\n",
       " '__version__',\n",
       " '_cache',\n",
       " '_compile',\n",
       " '_compile_repl',\n",
       " '_expand',\n",
       " '_locale',\n",
       " '_pickle',\n",
       " '_special_chars_map',\n",
       " '_subx',\n",
       " 'compile',\n",
       " 'copyreg',\n",
       " 'enum',\n",
       " 'error',\n",
       " 'escape',\n",
       " 'findall',\n",
       " 'finditer',\n",
       " 'fullmatch',\n",
       " 'functools',\n",
       " 'match',\n",
       " 'purge',\n",
       " 'search',\n",
       " 'split',\n",
       " 'sre_compile',\n",
       " 'sre_parse',\n",
       " 'sub',\n",
       " 'subn',\n",
       " 'template']"
      ]
     },
     "execution_count": 2,
     "metadata": {},
     "output_type": "execute_result"
    }
   ],
   "source": [
    "dir(re)"
   ]
  },
  {
   "cell_type": "code",
   "execution_count": 3,
   "id": "subject-cyprus",
   "metadata": {},
   "outputs": [
    {
     "name": "stdout",
     "output_type": "stream",
     "text": [
      "None\n"
     ]
    }
   ],
   "source": [
    "# match: syntax: re.match(pattern,string)\n",
    "import re\n",
    "a=re.match('d','apssdc')\n",
    "print(a)"
   ]
  },
  {
   "cell_type": "code",
   "execution_count": 4,
   "id": "liable-syndrome",
   "metadata": {},
   "outputs": [
    {
     "name": "stdout",
     "output_type": "stream",
     "text": [
      "<re.Match object; span=(3, 4), match='s'>\n"
     ]
    }
   ],
   "source": [
    "b=re.search('s',\"appssdc\")\n",
    "print(b)"
   ]
  },
  {
   "cell_type": "code",
   "execution_count": 5,
   "id": "conscious-salem",
   "metadata": {},
   "outputs": [
    {
     "data": {
      "text/plain": [
       "<re.Match object; span=(0, 3), match='rvr'>"
      ]
     },
     "execution_count": 5,
     "metadata": {},
     "output_type": "execute_result"
    }
   ],
   "source": [
    "c=re.match('rvr','rvrjc')\n",
    "c"
   ]
  },
  {
   "cell_type": "code",
   "execution_count": 7,
   "id": "proof-contribution",
   "metadata": {},
   "outputs": [
    {
     "data": {
      "text/plain": [
       "['ar']"
      ]
     },
     "execution_count": 7,
     "metadata": {},
     "output_type": "execute_result"
    }
   ],
   "source": [
    "d=re.findall('ar','sai varun')\n",
    "d"
   ]
  },
  {
   "cell_type": "markdown",
   "id": "reliable-grave",
   "metadata": {},
   "source": [
    "# Python\tRegular\tExpression\tQuick\tGuide\n",
    "- ^  Matches the beginning of a line\n",
    "- $  Matches the end of the line\n",
    "- .  Matches any character\n",
    "- \\s Matches whitespace\n",
    "- \\S Matches any non-whitespace character\n",
    "- *  Repeats a character zero or more times\n",
    "- *? Repeats a character zero or more times\n",
    " (non-greedy)\n",
    "- +  Repeats a character one or more times\n",
    "- +? Repeats a character one or more times\n",
    " (non-greedy)\n",
    "- [aeiou]  Matches a single character in the listed set\n",
    "- [^XYZ]  Matches a single character not in the listed set\n",
    "- [a-z0-9]  The set of characters can include a range\n",
    "- (  Indicates where string extraction is to start\n",
    "- )  Indicates where string extraction is to end"
   ]
  },
  {
   "cell_type": "code",
   "execution_count": 8,
   "id": "attractive-miracle",
   "metadata": {},
   "outputs": [
    {
     "data": {
      "text/plain": [
       "<re.Match object; span=(0, 12), match='rvrjc guntur'>"
      ]
     },
     "execution_count": 8,
     "metadata": {},
     "output_type": "execute_result"
    }
   ],
   "source": [
    "a = 'rvrjc guntur'\n",
    "import re\n",
    "res=re.search('^r.*r$',a)\n",
    "res"
   ]
  },
  {
   "cell_type": "code",
   "execution_count": 10,
   "id": "wrapped-corner",
   "metadata": {},
   "outputs": [
    {
     "data": {
      "text/plain": [
       "['sai', 'sai']"
      ]
     },
     "execution_count": 10,
     "metadata": {},
     "output_type": "execute_result"
    }
   ],
   "source": [
    "a= 'sai varun penumarthi sai varun'\n",
    "res=re.findall('sai',a)\n",
    "res"
   ]
  },
  {
   "cell_type": "code",
   "execution_count": 19,
   "id": "under-actress",
   "metadata": {},
   "outputs": [
    {
     "data": {
      "text/plain": [
       "['python', 'python']"
      ]
     },
     "execution_count": 19,
     "metadata": {},
     "output_type": "execute_result"
    }
   ],
   "source": [
    "a='python workshop python language rvr jc'\n",
    "res=re.findall('p....n',a)\n",
    "res"
   ]
  },
  {
   "cell_type": "code",
   "execution_count": 9,
   "id": "documentary-peter",
   "metadata": {},
   "outputs": [
    {
     "data": {
      "text/plain": [
       "[' ', ' ', ' ', ' ']"
      ]
     },
     "execution_count": 9,
     "metadata": {},
     "output_type": "execute_result"
    }
   ],
   "source": [
    "a = 'rvr jc ece python workshop'\n",
    "import re\n",
    "res=re.findall('\\s',a)\n",
    "res"
   ]
  },
  {
   "cell_type": "code",
   "execution_count": 10,
   "id": "turkish-cardiff",
   "metadata": {},
   "outputs": [
    {
     "data": {
      "text/plain": [
       "<re.Match object; span=(0, 12), match='999999999999'>"
      ]
     },
     "execution_count": 10,
     "metadata": {},
     "output_type": "execute_result"
    }
   ],
   "source": [
    "a ='999999999999898'\n",
    "res=re.search('9*',a)\n",
    "res"
   ]
  },
  {
   "cell_type": "code",
   "execution_count": 13,
   "id": "hazardous-investigation",
   "metadata": {},
   "outputs": [
    {
     "name": "stdout",
     "output_type": "stream",
     "text": [
      "venkatesh\n"
     ]
    }
   ],
   "source": [
    "li=['ramu','raju','venkatesh','avinash']\n",
    "pattern='^v.*h$'\n",
    "\n",
    "for i in li :\n",
    "    if re.search(pattern,i):\n",
    "        print(i)"
   ]
  },
  {
   "cell_type": "code",
   "execution_count": 15,
   "id": "valuable-simpson",
   "metadata": {},
   "outputs": [
    {
     "name": "stdout",
     "output_type": "stream",
     "text": [
      "*\n",
      "**\n",
      "***\n"
     ]
    }
   ],
   "source": [
    "print('*')\n",
    "print('**')\n",
    "print('***')\n"
   ]
  },
  {
   "cell_type": "code",
   "execution_count": 17,
   "id": "numerous-principal",
   "metadata": {},
   "outputs": [
    {
     "name": "stdout",
     "output_type": "stream",
     "text": [
      "9894215321\n",
      "8654362132\n",
      "7895415632\n",
      "6532124532\n"
     ]
    }
   ],
   "source": [
    "# mobile number pattern\n",
    "# -\\d  digits\n",
    "li=['9894215321','8654362132','7895415632','5421232541','6532124532']\n",
    "pattern='^[6,7,8,9]\\d{9}$'\n",
    "for i in li:\n",
    "    if re.findall(pattern,i):\n",
    "        print(i)"
   ]
  },
  {
   "cell_type": "code",
   "execution_count": null,
   "id": "upset-scratch",
   "metadata": {},
   "outputs": [],
   "source": []
  }
 ],
 "metadata": {
  "kernelspec": {
   "display_name": "Python 3",
   "language": "python",
   "name": "python3"
  }
 },
 "nbformat": 4,
 "nbformat_minor": 5
}
